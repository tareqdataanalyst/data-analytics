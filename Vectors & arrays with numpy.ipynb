{
 "cells": [
  {
   "cell_type": "markdown",
   "id": "7bd25331-77d4-4f99-ac38-12c5863a0433",
   "metadata": {},
   "source": [
    "Activity: Vectors and arrays with NumPy\n"
   ]
  },
  {
   "cell_type": "markdown",
   "id": "8e47b6ce-c093-4e7e-9015-5ace1c529816",
   "metadata": {},
   "source": [
    "Introduction"
   ]
  },
  {
   "cell_type": "markdown",
   "id": "7f72d7fc-d690-476a-8629-04af9f478489",
   "metadata": {},
   "source": [
    "Your work as a data professional for the U.S. Environmental Protection Agency (EPA) requires you to analyze air quality index data collected from the United States and Mexico.\n",
    "\n",
    "The air quality index (AQI) is a number that runs from 0 to 500. The higher the AQI value, the greater the level of air pollution and the greater the health concern. For example, an AQI value of 50 or below represents good air quality, while an AQI value over 300 represents hazardous air quality. Refer to this guide from AirNow.gov for more information.\n",
    "\n",
    "In this lab, you will work with NumPy arrays to perform calculations and evaluations with data they contain. Specifically, you'll be working with just the data from the numerical AQI readings."
   ]
  },
  {
   "cell_type": "markdown",
   "id": "336c2a2c-8d87-4882-8400-6d3fac5c7323",
   "metadata": {},
   "source": [
    "Task 1: Create an array using NumPy"
   ]
  },
  {
   "cell_type": "markdown",
   "id": "177d64a2-c226-4d67-9ddf-f503bbf0c66a",
   "metadata": {},
   "source": [
    "# Task 1: Create an array using NumPy\n",
    "\n",
    "The EPA has compiled some AQI data where each AQI report has the state name, county name, and AQI. Refer to the table below as an example.\n",
    "\n",
    "| state_name | county_name | aqi |\n",
    "| ------- | ------- | ------ |\n",
    "| Arizona | Maricopa | 18 |\n",
    "| California | Alameda | 11 |\n",
    "| California | Butte | 6 |\n",
    "| Texas | El Paso | 40 |\n",
    "| Florida | Duval | 15 |\n",
    "\n",
    "<br/>\n"
   ]
  },
  {
   "cell_type": "markdown",
   "id": "a919b27b-6633-4d66-be28-2067e8c5af8b",
   "metadata": {},
   "source": [
    "1a: Import NumPy"
   ]
  },
  {
   "cell_type": "markdown",
   "id": "5b44b1ee-86bd-4efe-a96d-61fda99d9922",
   "metadata": {},
   "source": [
    "Import NumPy using its standard alias."
   ]
  },
  {
   "cell_type": "code",
   "execution_count": 13,
   "id": "2393d67f-3878-463d-bfaf-08d0e1d76f6e",
   "metadata": {},
   "outputs": [],
   "source": [
    "import numpy as np"
   ]
  },
  {
   "cell_type": "code",
   "execution_count": 15,
   "id": "4afeefea-58d2-41d3-be0d-17b36b9ef6ee",
   "metadata": {},
   "outputs": [],
   "source": [
    "aqi_array = [18, 11, 6, 40, 15]\n"
   ]
  },
  {
   "cell_type": "code",
   "execution_count": 19,
   "id": "326c940c-8286-4620-abc1-b1ec43e42c41",
   "metadata": {},
   "outputs": [],
   "source": [
    "aqiarray = np.array(aqi_array)"
   ]
  },
  {
   "cell_type": "code",
   "execution_count": 21,
   "id": "c9ac9b65-1900-4a47-8f40-f27b078b8817",
   "metadata": {},
   "outputs": [
    {
     "name": "stdout",
     "output_type": "stream",
     "text": [
      "[18 11  6 40 15]\n"
     ]
    }
   ],
   "source": [
    "print(aqiarray)"
   ]
  },
  {
   "cell_type": "raw",
   "id": "94fabe50-1a4f-4dad-8262-a77ca22a77b2",
   "metadata": {},
   "source": [
    "\n",
    "Task 2: Calculate summary statistics"
   ]
  },
  {
   "cell_type": "code",
   "execution_count": 27,
   "id": "ad79ba15-fd9c-48ad-962b-e85683d373b9",
   "metadata": {},
   "outputs": [
    {
     "name": "stdout",
     "output_type": "stream",
     "text": [
      "Max =  40\n",
      "Min =  6\n",
      "Median = 15.0\n",
      "Std = 11.713240371477058\n"
     ]
    }
   ],
   "source": [
    "print(\"Max = \",np.max(aqiarray))\n",
    "print(\"Min = \",np.min(aqiarray))\n",
    "print(\"Median =\",np.median(aqiarray))\n",
    "print(\"Std =\",np.std(aqiarray))"
   ]
  },
  {
   "cell_type": "raw",
   "id": "f7ab7ef2-53ff-47f3-b908-9844865d0687",
   "metadata": {},
   "source": [
    "\n",
    "Task 3: Calculate percentage of readings with cleanest AQI"
   ]
  },
  {
   "cell_type": "code",
   "execution_count": 29,
   "id": "dfdec33b-4587-4f7a-bfad-4e02df0f4420",
   "metadata": {},
   "outputs": [
    {
     "data": {
      "text/plain": [
       "0.0"
      ]
     },
     "execution_count": 29,
     "metadata": {},
     "output_type": "execute_result"
    }
   ],
   "source": [
    "aqi_under6 = np.array(aqiarray<=5)\n",
    "percentage_under6 = sum(aqi_under6)/len(aqi_under6)\n",
    "percentage_under6"
   ]
  },
  {
   "cell_type": "code",
   "execution_count": null,
   "id": "9dc62e1f-860d-4665-abcb-e4edbdc23765",
   "metadata": {},
   "outputs": [],
   "source": []
  }
 ],
 "metadata": {
  "kernelspec": {
   "display_name": "anaconda-2024.02-py310",
   "language": "python",
   "name": "conda-env-anaconda-2024.02-py310-py"
  },
  "language_info": {
   "codemirror_mode": {
    "name": "ipython",
    "version": 3
   },
   "file_extension": ".py",
   "mimetype": "text/x-python",
   "name": "python",
   "nbconvert_exporter": "python",
   "pygments_lexer": "ipython3",
   "version": "3.10.14"
  }
 },
 "nbformat": 4,
 "nbformat_minor": 5
}
