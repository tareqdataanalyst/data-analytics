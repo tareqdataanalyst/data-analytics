{
 "cells": [
  {
   "cell_type": "markdown",
   "metadata": {
    "id": "Qg5NiuIpplUe"
   },
   "source": [
    "<h1>Activity: Use Python Syntax</h1>"
   ]
  },
  {
   "cell_type": "markdown",
   "metadata": {
    "id": "DNYNVjDQpmmd"
   },
   "source": [
    "## Introduction\n",
    "\n",
    "In this lab, you will practice Python syntax by creating variables, checking the data types of variables, creating precise variable names, and completing data conversions.\n",
    "\n",
    "For this activity, imagine you're a data professional analyzing the users that log in to purchase tickets at a movie theater. You'll save the theater's unique identification code to a variable, study the number of tickets sold, and the data types you'll be working with.\n",
    "\n",
    "Throughout this lab, you will practice assigning variables, viewing the values saved to the variables, and checking their data types.\n"
   ]
  },
  {
   "cell_type": "markdown",
   "metadata": {
    "id": "tB2oxyU-prdI"
   },
   "source": [
    "## Task 1: Assign the theater ID to a variable\n",
    "\n",
    "In your work as an analyst, imagine you are considering sales at a specific theater and you want to save the theater's unique identification, which is `\"b79cn10k\"`, to a variable. By doing this, you'll be able to access the ID easily if you need it later. In the following code cell:\n",
    "\n",
    "1. Assign the theater's unique identification to a variable named `theater_id`.\n",
    "\n",
    "2. Display the contents of the `theater_id` variable.\n",
    "\n",
    "Be sure to replace each `### YOUR CODE HERE ###` with your own code before you run the following cell."
   ]
  },
  {
   "cell_type": "code",
   "execution_count": 1,
   "metadata": {
    "colab": {
     "base_uri": "https://localhost:8080/"
    },
    "executionInfo": {
     "elapsed": 9,
     "status": "ok",
     "timestamp": 1678488445301,
     "user": {
      "displayName": "Arwen Shackelford",
      "userId": "14614635049532489764"
     },
     "user_tz": 360
    },
    "id": "qpkTCRNZp2rE",
    "outputId": "91684ee0-a1aa-4ca7-a8c4-4223f204dca6"
   },
   "outputs": [
    {
     "data": {
      "text/plain": [
       "'b79cn10k'"
      ]
     },
     "execution_count": 1,
     "metadata": {},
     "output_type": "execute_result"
    }
   ],
   "source": [
    "\n",
    "theater_id = \"b79cn10k\"\n",
    "\n",
    "\n",
    "theater_id"
   ]
  },
  {
   "cell_type": "markdown",
   "metadata": {
    "id": "vE6xNJ-yqBNN"
   },
   "source": [
    "## Task 2: Create a ticket type variable\n",
    "\n",
    "As you continue your work, you're provided a list of the different types of tickets sold by the theater: `\"Senior\"`, `\"Adult\"`, and `\"Youth\"`. In this task, focus on the `\"Adult\"` ticket type.\n",
    "\n",
    "1.  Create a variable called `ticket_type` and assign it a value of `\"Adult\"`.\n",
    "2.  Display the contents of the `ticket_type` variable."
   ]
  },
  {
   "cell_type": "code",
   "execution_count": 2,
   "metadata": {
    "colab": {
     "base_uri": "https://localhost:8080/"
    },
    "executionInfo": {
     "elapsed": 5,
     "status": "ok",
     "timestamp": 1678488445302,
     "user": {
      "displayName": "Arwen Shackelford",
      "userId": "14614635049532489764"
     },
     "user_tz": 360
    },
    "id": "cocf9l4wqDMn",
    "outputId": "f3800616-83cd-4952-93b7-d3e3e819cda4"
   },
   "outputs": [
    {
     "data": {
      "text/plain": [
       "['Senior', 'Adult', 'Youth']"
      ]
     },
     "execution_count": 2,
     "metadata": {},
     "output_type": "execute_result"
    }
   ],
   "source": [
    "\n",
    "\n",
    "ticket_type = ['Senior','Adult','Youth']\n",
    "\n",
    "ticket_type"
   ]
  },
  {
   "cell_type": "markdown",
   "metadata": {
    "id": "tfKns4NhqUZy"
   },
   "source": [
    "## Task 3: Save the number of adult tickets to a variable and check the data type\n",
    "\n",
    "Now that you've recorded the types of tickets being sold, it's time to record the number of adult tickets sold so far.\n",
    "\n",
    "1. Create a variable called `adult_tickets_sold` that represents the current number of \"adult\" tickets sold and assign it a value of `59.0`.\n",
    "\n",
    "2. Check the data type of `adult_tickets_sold`."
   ]
  },
  {
   "cell_type": "code",
   "execution_count": 3,
   "metadata": {
    "colab": {
     "base_uri": "https://localhost:8080/"
    },
    "executionInfo": {
     "elapsed": 143,
     "status": "ok",
     "timestamp": 1678488446508,
     "user": {
      "displayName": "Arwen Shackelford",
      "userId": "14614635049532489764"
     },
     "user_tz": 360
    },
    "id": "coPEMTAdqEyO",
    "outputId": "f426a84a-75c7-4509-8da7-ed3c182256bc"
   },
   "outputs": [
    {
     "data": {
      "text/plain": [
       "float"
      ]
     },
     "execution_count": 3,
     "metadata": {},
     "output_type": "execute_result"
    }
   ],
   "source": [
    "\n",
    "adult_tickets_sold = 59.0\n",
    "\n",
    "\n",
    "type(adult_tickets_sold)"
   ]
  },
  {
   "cell_type": "markdown",
   "metadata": {
    "id": "pJNhDk51rNjH"
   },
   "source": [
    "## Task 4: Convert data types and print the result\n",
    "\n",
    "The data you work with as a data professional often needs to be converted to different data types. In this case, the number of tickets sold should be recorded as integers and not floats.\n",
    "\n",
    "1. Convert the data saved in the `adult_tickets_sold` variable from a **float** to an **integer**. Reassign the result back to the `adult_tickets_sold` variable.\n",
    "\n",
    "2. Check the data type of `adult_tickets_sold`."
   ]
  },
  {
   "cell_type": "code",
   "execution_count": 4,
   "metadata": {
    "colab": {
     "base_uri": "https://localhost:8080/"
    },
    "executionInfo": {
     "elapsed": 140,
     "status": "ok",
     "timestamp": 1678488450635,
     "user": {
      "displayName": "Arwen Shackelford",
      "userId": "14614635049532489764"
     },
     "user_tz": 360
    },
    "id": "_9W-UpPfrPwR",
    "outputId": "aa1cab63-2402-47e3-b083-72d4d55148f0"
   },
   "outputs": [
    {
     "data": {
      "text/plain": [
       "int"
      ]
     },
     "execution_count": 4,
     "metadata": {},
     "output_type": "execute_result"
    }
   ],
   "source": [
    "\n",
    "adult_tickets_sold = int(adult_tickets_sold)\n",
    "\n",
    "\n",
    "type(adult_tickets_sold)"
   ]
  }
 ],
 "metadata": {
  "colab": {
   "provenance": []
  },
  "kernelspec": {
   "display_name": "anaconda-2022.05-py39",
   "language": "python",
   "name": "conda-env-anaconda-2022.05-py39-py"
  },
  "language_info": {
   "codemirror_mode": {
    "name": "ipython",
    "version": 3
   },
   "file_extension": ".py",
   "mimetype": "text/x-python",
   "name": "python",
   "nbconvert_exporter": "python",
   "pygments_lexer": "ipython3",
   "version": "3.9.12"
  }
 },
 "nbformat": 4,
 "nbformat_minor": 4
}
