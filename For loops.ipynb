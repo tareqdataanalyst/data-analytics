{
 "cells": [
  {
   "cell_type": "markdown",
   "metadata": {
    "id": "m14F-xriYRB8"
   },
   "source": [
    "<summary><h1>Activity: For loops</h1></summary>"
   ]
  },
  {
   "cell_type": "markdown",
   "metadata": {
    "id": "tsXwTAlCYWF2"
   },
   "source": [
    "## Introduction \n",
    "\n",
    "As a data professional, you may need to use methods that involve repetition. For example, when analyzing customer feedback from surveys, you may need to compare averages across categories. In Python, using iterative statements helps automate this task and makes them more efficient.\n",
    "\n",
    "In this lab, you will practice writing iterative statements using `for` loops. "
   ]
  },
  {
   "cell_type": "markdown",
   "metadata": {
    "id": "1gID2HFQYYin"
   },
   "source": [
    "## Tips for completing this lab\n",
    "\n",
    "As you navigate this lab, keep the following tips in mind:\n",
    "\n",
    "- `### YOUR CODE HERE ###` indicates where you should write code. Be sure to replace this with your own code before running the code cell.\n",
    "- Feel free to open the hints for additional guidance as you work on each task.\n",
    "- To enter your answer to a question, double-click the markdown cell to edit. Be sure to replace the \"[Double-click to enter your responses here.]\" with your own answer.\n",
    "- You can save your work manually by clicking File and then Save in the menu bar at the top of the notebook.\n",
    "- You can download your work locally by clicking File and then Download and then specifying your preferred file format in the menu bar at the top of the notebook."
   ]
  },
  {
   "cell_type": "markdown",
   "metadata": {
    "id": "IDPbsOsHYtNa"
   },
   "source": [
    "## Task 1: Iterating with `if`, `elif`, and `else`\n",
    "\n",
    "In your work as an analyst, you have received customer feedback for a newly launched product. The feedback is a numerical grade on a scale of 1-10, with 10 being the best. Understanding the number of customers who responded negatively, neutrally, or positively will help determine how to improve the product.\n",
    "\n",
    "*  Define a function called `score_counter` that accepts the following argument:\n",
    "    * `score_list` - a list of customer-submitted scores, where each score is an integer, 1-10\n",
    "\n",
    "*  The function must iterate over the elements of `score_list` and bin the scores into three bins:\n",
    "\n",
    "| Negative | Neutral | Positive |\n",
    "| :-: | :-: | :-: |\n",
    "| 1-5 | 6-8 | 9-10 |\n",
    "\n",
    "*  The output of the function must be three statements, each on its own line:\n",
    "\n",
    "    1. `'Negative: {n_negative_scores}'`\n",
    "    2. `'Neutral: {n_neutral_scores}'`\n",
    "    3. `'Positive: {n_positive_scores}'`\n",
    "\n",
    "*Example:*\n",
    "\n",
    "```\n",
    " [IN] score_counter([1, 2, 3, 4, 5, 6, 7, 8, 9, 10])\n",
    "[OUT] 'Negative: 5'\n",
    "      'Neutral: 3'\n",
    "      'Positive: 2'\n",
    "```\n",
    "**Note that there is more than one way to solve this problem.**"
   ]
  },
  {
   "cell_type": "code",
   "execution_count": 29,
   "metadata": {
    "id": "kQHzgKnxO7Vv"
   },
   "outputs": [
    {
     "name": "stdout",
     "output_type": "stream",
     "text": [
      "Negative: 5\n",
      "Neutral: 3\n",
      "Positive: 2\n"
     ]
    }
   ],
   "source": [
    "\n",
    "score_list=[1, 2, 3, 4, 5, 6, 7, 8, 9, 10]\n",
    "def score_counter(score_list):\n",
    "    neg = 0\n",
    "    net=0\n",
    "    pos=0\n",
    "    \n",
    "    for score in score_list:\n",
    "        if(score>=9):\n",
    "            pos=pos+1\n",
    "        elif(score>=6):\n",
    "            net=net+1\n",
    "        else:\n",
    "            neg=neg+1\n",
    "    print('Negative:',neg)\n",
    "    print('Neutral:',net)\n",
    "    print('Positive:',pos)\n",
    "    \n",
    "score_counter(score_list)\n"
   ]
  },
  {
   "cell_type": "markdown",
   "metadata": {
    "id": "W_8NrujfeQox"
   },
   "source": [
    "### Test your function\n",
    "Test your function against the following cases by running the cell below."
   ]
  },
  {
   "cell_type": "code",
   "execution_count": 30,
   "metadata": {
    "colab": {
     "base_uri": "https://localhost:8080/"
    },
    "executionInfo": {
     "elapsed": 8,
     "status": "ok",
     "timestamp": 1680062595536,
     "user": {
      "displayName": "Matteo Riotto",
      "userId": "15211004813978485634"
     },
     "user_tz": 420
    },
    "id": "25V5vfEGVFEF",
    "outputId": "49fcaa0e-19f8-4c45-d41d-5f0c4b8128b7"
   },
   "outputs": [
    {
     "name": "stdout",
     "output_type": "stream",
     "text": [
      "Test 1:\n",
      "Negative: 5\n",
      "Neutral: 1\n",
      "Positive: 4\n",
      "\n",
      "Test 2:\n",
      "Negative: 85\n",
      "Neutral: 253\n",
      "Positive: 112\n",
      "\n",
      "Test 3:\n",
      "Negative: 1935\n",
      "Neutral: 2652\n",
      "Positive: 5413\n"
     ]
    }
   ],
   "source": [
    "\n",
    "\n",
    "import random\n",
    "random.seed(42)\n",
    "\n",
    "possible_scores = list(range(1,11))\n",
    "score_list1 = random.choices(possible_scores, weights=[8,8,8,8,8,3,3,4,20,30], k=10)\n",
    "score_list2 = random.choices(possible_scores, weights=[1,2,3,4,5,10,15,15,7,9], k=450)\n",
    "score_list3 = random.choices(possible_scores, weights=[1,2,3,4,4,5,5,10,15,25], k=10000)\n",
    "\n",
    "print('Test 1:')          \n",
    "score_counter(score_list1) \n",
    "print('\\nTest 2:')\n",
    "score_counter(score_list2) \n",
    "print('\\nTest 3:')\n",
    "score_counter(score_list3) "
   ]
  },
  {
   "cell_type": "markdown",
   "metadata": {
    "id": "MtE4axqNWh42"
   },
   "source": [
    "## Task 2: Create a `for` loop using `if`, `not`, and `in`\n",
    "\n",
    "There is concern that some of the customer feedback scores are fake. One way to check the integrity of the feedback is to identify how many scores came from verified customers.\n",
    "\n",
    "In this task, you are provided with two lists: a list of verified customer IDs and a list of all IDs that left feedback scores. You must validate the data by cross-checking the lists against each other.\n",
    "\n",
    "<br/>\n",
    "\n",
    "* Define a function called `id_validator` that takes two lists as arguments:\n",
    "    *  `verified_ids` - a list containing IDs of verified customers\n",
    "    *  `feedback_ids` - a list containing unique IDs of all posters of feedback scores\n",
    "\n",
    "*  The output of the function must be two statements, each on its own line:\n",
    "    1. `'{num_unverified_ids} of {num_feedback_ids} unverified.'`\n",
    "    2. `'{percent} unverified.'`\n",
    "\n",
    "*Example:*\n",
    "\n",
    "```\n",
    " [IN]  id_validator(verified_ids=['1', '2'], feedback_ids=['1', '2', '3'])\n",
    "[OUT]  '1 of 3 IDs unverified.'\n",
    "       '33.33% unverified.'\n",
    "\n",
    " [IN]  id_validator(verified_ids=['1a', '2b', '3c'], feedback_ids=['1a', '4d'])\n",
    "[OUT]  '1 of 2 IDs unverified.'\n",
    "       '50.0% unverified.'\n",
    "```\n",
    "**Note that there is more than one way to solve this problem.**"
   ]
  },
  {
   "cell_type": "code",
   "execution_count": 31,
   "metadata": {
    "id": "AdTs3KkUoVVk"
   },
   "outputs": [],
   "source": [
    "\n",
    "def id_validator(verified_ids,feedback_ids):\n",
    "    unverified_feedback = 0\n",
    "    for id in feedback_ids:\n",
    "        if id not in verified_ids:\n",
    "            unverified_feedback += 1\n",
    "    percent_unverified = unverified_feedback/len(feedback_ids)*100\n",
    "    print(unverified_feedback, 'of', len(feedback_ids), 'IDs unverified.')\n",
    "    print(str(round(percent_unverified, 2)) + '% unverified.')"
   ]
  },
  {
   "cell_type": "markdown",
   "metadata": {
    "id": "TTjPB1koqJUO"
   },
   "source": [
    "### Test your function\n",
    "Test your function against the following cases by running the cell below."
   ]
  },
  {
   "cell_type": "code",
   "execution_count": 32,
   "metadata": {
    "id": "u2ysW2IO1psk"
   },
   "outputs": [
    {
     "name": "stdout",
     "output_type": "stream",
     "text": [
      "Test 1:\n",
      "4 of 15 IDs unverified.\n",
      "26.67% unverified.\n",
      "\n",
      "Test 2:\n",
      "357 of 900 IDs unverified.\n",
      "39.67% unverified.\n",
      "\n",
      "Test 3:\n",
      "1208 of 14925 IDs unverified.\n",
      "8.09% unverified.\n"
     ]
    }
   ],
   "source": [
    "\n",
    "import ada_c2_labs as lab\n",
    "\n",
    "                                  \n",
    "print('Test 1:')\n",
    "ver1, fb1 = lab.lists_gen(8, 20, 15, 15)          \n",
    "id_validator(ver1, fb1)                           \n",
    "\n",
    "print('\\nTest 2:')\n",
    "ver2, fb2 = lab.lists_gen(8, 1000, 900, 600)        \n",
    "id_validator(ver2, fb2)                            \n",
    "\n",
    "print('\\nTest 3:')\n",
    "ver3, fb3 = lab.lists_gen(8, 15000, 14925, 13788)   \n",
    "id_validator(ver3, fb3)                            "
   ]
  },
  {
   "cell_type": "markdown",
   "metadata": {
    "id": "JzWNOYsWoIXb"
   },
   "source": [
    "# Task 3: Create a nested loop\n",
    "\n",
    "You've been asked to calculate the total value of all purchases made by each customer to understand how many customers have spent $100+.\n",
    "\n",
    "*  Write a function called `purchases_100` that accepts the following argument:\n",
    "    * `sales` - a list of lists where each inner list contains the prices of items purchased by a unique customer.\n",
    "\n",
    "* The function must return the number of customers whose purchases summed to $100 or more.\n",
    "\n",
    "*Example:*\n",
    "\n",
    "```\n",
    "sales = [[2.75], [50.0, 50.0], [150.46, 200.12, 97.30]]\n",
    "\n",
    " [IN]  purchases_100(sales)\n",
    "[OUT]  2\n",
    "```\n",
    "\n",
    "**Note that there is more than one way to solve this problem.**"
   ]
  },
  {
   "cell_type": "code",
   "execution_count": 35,
   "metadata": {
    "id": "NROZmlPopESe"
   },
   "outputs": [],
   "source": [
    "\n",
    "sales=[]\n",
    "def purchases_100(sales):\n",
    "    count = 0                          \n",
    "    for customer in sales:             \n",
    "        customer_total = 0             \n",
    "        for purchase in customer:      \n",
    "            customer_total += purchase  \n",
    "        if customer_total >= 100:       \n",
    "                                        \n",
    "            count+=1                   \n",
    "    return count"
   ]
  },
  {
   "cell_type": "markdown",
   "metadata": {
    "id": "HTF4sZ20APMD"
   },
   "source": [
    "### Test your function\n",
    "Test your function against the following cases by running the cell below."
   ]
  },
  {
   "cell_type": "code",
   "execution_count": 34,
   "metadata": {
    "id": "tYFv-iLp1ZCp"
   },
   "outputs": [
    {
     "name": "stdout",
     "output_type": "stream",
     "text": [
      "Test 1: 5\n",
      "Test 2: 46\n",
      "Test 3: 470\n"
     ]
    }
   ],
   "source": [
    "\n",
    "import ada_c2_labs as lab\n",
    "sales1 = lab.sales_data_generator(n_customers=10, seed=1)  \n",
    "print('Test 1:', purchases_100(sales1))                     \n",
    "\n",
    "sales2 = lab.sales_data_generator(n_customers=150, seed=18)\n",
    "print('Test 2:', purchases_100(sales2))                     \n",
    "\n",
    "sales3 = lab.sales_data_generator(n_customers=1275, seed=42)\n",
    "print('Test 3:', purchases_100(sales3))                    "
   ]
  }
 ],
 "metadata": {
  "colab": {
   "provenance": []
  },
  "kernelspec": {
   "display_name": "anaconda-2022.05-py39",
   "language": "python",
   "name": "conda-env-anaconda-2022.05-py39-py"
  },
  "language_info": {
   "codemirror_mode": {
    "name": "ipython",
    "version": 3
   },
   "file_extension": ".py",
   "mimetype": "text/x-python",
   "name": "python",
   "nbconvert_exporter": "python",
   "pygments_lexer": "ipython3",
   "version": "3.9.12"
  }
 },
 "nbformat": 4,
 "nbformat_minor": 4
}
