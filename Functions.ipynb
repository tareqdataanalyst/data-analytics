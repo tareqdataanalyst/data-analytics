{
 "cells": [
  {
   "cell_type": "markdown",
   "metadata": {
    "id": "XhsOK4sU-hwF"
   },
   "source": [
    "<h1>Activity: Functions</h1>"
   ]
  },
  {
   "cell_type": "markdown",
   "metadata": {
    "id": "p44i56Cl-hwG"
   },
   "source": [
    "## Introduction \n",
    "\n",
    "In this lab, you will practice defining functions and returning values, writing clean code, and using comments to scaffold code.\n",
    "\n",
    "As a data professional, you'll often need to reuse the same block of code more than once when you're writing Python code to automate a certain task. This is why functions are important. You can call functions whenever you need the computer to execute those steps. Python has built-in functions that have already been defined and also provides tools for users to define their own functions.\n",
    "\n",
    "In this lab, you'll define and call a function that calculates the revenue a theater makes depending on the number of tickets sold, then test the function with a new value.\n"
   ]
  },
  {
   "cell_type": "markdown",
   "metadata": {
    "id": "xbX_PD6J-hwH"
   },
   "source": [
    "## Task 1: Analyze a function\n",
    "\n",
    "In your work as a data analyst for a movie theater, you're asked to quickly calculate how much the theater has made in sales so far.\n",
    "\n",
    "In the following cell, analyze the function named `total_sales` and make note of your observations.\n",
    "\n",
    "You do not need to run this cell, but if you do it will not produce an output."
   ]
  },
  {
   "cell_type": "code",
   "execution_count": null,
   "metadata": {
    "id": "ucfgn-v4-hwH"
   },
   "outputs": [],
   "source": [
    "\n",
    "def total_sales():\n",
    "\n",
    "    \n",
    "    return"
   ]
  },
  {
   "cell_type": "markdown",
   "metadata": {
    "id": "jWGW2DeM-hwJ"
   },
   "source": [
    "## Task 2: Add a parameter and calculations to the function\n",
    "\n",
    "As you continue refining your code, imagine that the price of tickets is $7.99. Now you will need to add a parameter to the function definition and the calculation to the function body.\n",
    "\n"
   ]
  },
  {
   "cell_type": "markdown",
   "metadata": {
    "id": "MNsz5GOI-hwJ"
   },
   "source": [
    "### 2a: Add a calculation to the function\n",
    "\n",
    "In this task, update the `total_sales` function so it returns the value of the number of tickets `n` multiplied by the price `7.99`."
   ]
  },
  {
   "cell_type": "code",
   "execution_count": 1,
   "metadata": {
    "id": "XisiWnjN-hwJ"
   },
   "outputs": [],
   "source": [
    "\n",
    "def total_sales(n):\n",
    "    return n*7.99"
   ]
  },
  {
   "cell_type": "markdown",
   "metadata": {
    "id": "mLho0ga--hwJ"
   },
   "source": [
    "### 2b: Call the function\n",
    "\n",
    "With the calculations added to the `total_sales` function, test it with a value of `59`.\n",
    "\n",
    "*Example:*\n",
    "\n",
    "```\n",
    "[IN]  total_sales(59)\n",
    "[OUT] 471.41\n",
    "```"
   ]
  },
  {
   "cell_type": "code",
   "execution_count": 2,
   "metadata": {
    "id": "noiw4TZ2-hwJ"
   },
   "outputs": [
    {
     "data": {
      "text/plain": [
       "471.41"
      ]
     },
     "execution_count": 2,
     "metadata": {},
     "output_type": "execute_result"
    }
   ],
   "source": [
    "\n",
    "total_sales(59)"
   ]
  },
  {
   "cell_type": "markdown",
   "metadata": {
    "id": "8TQyh5aT-hwL"
   },
   "source": [
    "# Task 3: Create a function that accepts two values\n",
    "\n",
    "You learn that the price of tickets is more expensive for opening night, and now you need to create a function that will accept two values and return their total value."
   ]
  },
  {
   "cell_type": "markdown",
   "metadata": {
    "id": "X4E5T6X9-hwL"
   },
   "source": [
    "### 3a: Refine the `total_sales` function\n",
    "\n",
    "*  Update your `total_sales` function so it accepts two parameters:\n",
    "    * `price` for the price per ticket\n",
    "    * `num_tickets` for the total number of tickets.\n",
    "\n",
    "* Return the product of the two arguments. Use the Python `round()` function to round the returned value to two decimal places. Refer to the [round() Python documentation](https://docs.python.org/3/library/functions.html#round) for more information regarding this function."
   ]
  },
  {
   "cell_type": "code",
   "execution_count": 9,
   "metadata": {
    "id": "W1syLfyl-hwM"
   },
   "outputs": [],
   "source": [
    "\n",
    "def total_sales(price,num_tickets):\n",
    "    return round(price*num_tickets,2)"
   ]
  },
  {
   "cell_type": "markdown",
   "metadata": {
    "id": "6D0whKnN-hwM"
   },
   "source": [
    "### 3b: Call the function\n",
    "\n",
    "Then, call the function with the value of `15.99` for `price` and `1001` for the number of tickets sold (`num_tickets`).\n",
    "\n",
    "Example:\n",
    "\n",
    "```\n",
    "[IN]  total_sales(15.99, 1001)\n",
    "[OUT] 16005.99\n",
    "```"
   ]
  },
  {
   "cell_type": "code",
   "execution_count": 10,
   "metadata": {
    "id": "0QEF1aJw-hwM"
   },
   "outputs": [
    {
     "data": {
      "text/plain": [
       "16005.99"
      ]
     },
     "execution_count": 10,
     "metadata": {},
     "output_type": "execute_result"
    }
   ],
   "source": [
    "\n",
    "total_sales(15.99, 1001)"
   ]
  },
  {
   "cell_type": "markdown",
   "metadata": {
    "id": "QbNTK2lJ-hwN"
   },
   "source": [
    "# Task 4: Test the function with different values\n",
    "\n",
    "As prices and sales fluctate, your function will need to accept different values and still return the total sales.\n",
    "\n",
    "In this task, practice calling your function with different values.\n",
    "\n",
    "Example:\n",
    "\n",
    "```\n",
    "[IN]  total_sales(16.99, 1232)\n",
    "[OUT] 20931.68\n",
    "\n",
    "[IN]  total_sales(10.50, 1472)\n",
    "[OUT] 15456.0\n",
    "\n",
    "[IN]  total_sales(5.00, 349)\n",
    "[OUT] 1745.0\n",
    "\n",
    "```"
   ]
  },
  {
   "cell_type": "code",
   "execution_count": 11,
   "metadata": {
    "id": "5-FAYyBe-hwN"
   },
   "outputs": [
    {
     "data": {
      "text/plain": [
       "20931.68"
      ]
     },
     "execution_count": 11,
     "metadata": {},
     "output_type": "execute_result"
    }
   ],
   "source": [
    "\n",
    "total_sales(16.99, 1232)"
   ]
  },
  {
   "cell_type": "code",
   "execution_count": 12,
   "metadata": {
    "id": "DHD5DkK6-hwO"
   },
   "outputs": [
    {
     "data": {
      "text/plain": [
       "15456.0"
      ]
     },
     "execution_count": 12,
     "metadata": {},
     "output_type": "execute_result"
    }
   ],
   "source": [
    "\n",
    "total_sales(10.50, 1472)"
   ]
  },
  {
   "cell_type": "code",
   "execution_count": 13,
   "metadata": {
    "id": "dkWOKCuR-hwO"
   },
   "outputs": [
    {
     "data": {
      "text/plain": [
       "1745.0"
      ]
     },
     "execution_count": 13,
     "metadata": {},
     "output_type": "execute_result"
    }
   ],
   "source": [
    "\n",
    "total_sales(5.00, 349)"
   ]
  }
 ],
 "metadata": {
  "colab": {
   "provenance": [],
   "toc_visible": true
  },
  "kernelspec": {
   "display_name": "anaconda-2024.02-py310",
   "language": "python",
   "name": "conda-env-anaconda-2024.02-py310-py"
  },
  "language_info": {
   "codemirror_mode": {
    "name": "ipython",
    "version": 3
   },
   "file_extension": ".py",
   "mimetype": "text/x-python",
   "name": "python",
   "nbconvert_exporter": "python",
   "pygments_lexer": "ipython3",
   "version": "3.10.14"
  }
 },
 "nbformat": 4,
 "nbformat_minor": 4
}
