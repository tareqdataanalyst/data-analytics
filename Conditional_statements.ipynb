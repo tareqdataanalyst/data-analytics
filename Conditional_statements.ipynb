{
 "cells": [
  {
   "cell_type": "markdown",
   "id": "310dd7bd-1a90-415a-9b21-b406773318f8",
   "metadata": {},
   "source": [
    "Activity: Conditional Statements\n"
   ]
  },
  {
   "cell_type": "markdown",
   "id": "a681a134-8ab4-49d7-a192-b8bed90b576a",
   "metadata": {},
   "source": [
    "\n",
    "Introduction\n",
    "\n",
    "In this lab, you will practice using Python operators to perform operations between two variables and write conditional statements.\n",
    "\n",
    "As a data analyst, you'll use conditional statements in your approach to many different tasks using Python. Using Boolean values, conditional statements will determine how a code block is executed based on how a condition is met.\n",
    "\n",
    "While continuing work for the movie theater, you're now examining marketing campaigns. Specifically, you'll be analyzing user behavior to determine when a customer's activity has prompted a marketing email.\n"
   ]
  },
  {
   "cell_type": "markdown",
   "id": "2db021fc-2bb1-4043-9768-9e1e1a07736c",
   "metadata": {},
   "source": [
    "Task 1: Define a comparator function\n",
    "\n",
    "You are a data professional for a movie theater, and your task is to use customers' purchasing data to determine whether or not to send them a marketing email.\n",
    "\n",
    "    Define a function called send_email that accepts the following arguments:\n",
    "        num_visits - the number of times a customer has visited the theater\n",
    "        visits_email - the minimum number of visits the customer must have made for them to receive a marketing email\n",
    "    The function must print either: Send email. or Not enough visits.\n"
   ]
  },
  {
   "cell_type": "code",
   "execution_count": 10,
   "id": "113952a3-a3ee-4c9f-a9cd-8db138c192b7",
   "metadata": {},
   "outputs": [],
   "source": [
    "def send_email(num_visits,visits_email):\n",
    "    if(num_visits<=4 and visits_email<=4):\n",
    "        print('Not enough  visits')\n",
    "    else :\n",
    "        print('Send email')\n",
    "\n"
   ]
  },
  {
   "cell_type": "code",
   "execution_count": 7,
   "id": "0bc004fb-8f32-4021-994f-ae2fdc737043",
   "metadata": {},
   "outputs": [
    {
     "name": "stdout",
     "output_type": "stream",
     "text": [
      "Not enough for visits\n",
      "Send email\n",
      "Send email\n"
     ]
    }
   ],
   "source": [
    "send_email(num_visits=3 , visits_email=4)\n",
    "send_email(num_visits=5 , visits_email=5)\n",
    "send_email(num_visits=15 , visits_email=10)"
   ]
  },
  {
   "cell_type": "markdown",
   "id": "cc915e9f-f1e7-4b69-aca5-267104301c28",
   "metadata": {},
   "source": [
    "Task 2: Add logical branching to your function\n",
    "\n",
    "The theater is offering a promotion where customers who have visited the theater more than a designated number of times will also receive a coupon with their email. Update the function that you created above to include additional logical branching.\n",
    "\n",
    "    Include an additional argument visits_coupon that represents the minimum number of visits the customer must have made for them to receive a coupon with their email.\n",
    "\n",
    "    The function must print one of three possible messages:\n",
    "        Send email with coupon.\n",
    "        Send email only.\n",
    "        Not enough visits.\n"
   ]
  },
  {
   "cell_type": "code",
   "execution_count": 12,
   "id": "f4267f72-d46f-4d5a-be88-0232d4b551e2",
   "metadata": {},
   "outputs": [],
   "source": [
    "def send_email(num_visits,visits_email,visits_coupon):\n",
    "    if(num_visits<=4 and visits_email<=4):\n",
    "        print('Not enough visits')\n",
    "    elif(num_visits>visits_coupon):\n",
    "        print('Sent email with coupon')\n",
    "    else:\n",
    "        print('Sent email')\n",
    "    "
   ]
  },
  {
   "cell_type": "code",
   "execution_count": 22,
   "id": "8bbef522-cccf-4ddc-9bb7-11951757c03f",
   "metadata": {},
   "outputs": [
    {
     "name": "stdout",
     "output_type": "stream",
     "text": [
      "Not enough visits\n",
      "Sent email with coupon\n",
      "Sent email\n",
      "Sent email with coupon\n",
      "Not enough visits\n"
     ]
    }
   ],
   "source": [
    "send_email(3,4,6)\n",
    "send_email(10,12,6)\n",
    "send_email(6,6,6)\n",
    "send_email(7,7,6)\n",
    "send_email(2,3,6)"
   ]
  }
 ],
 "metadata": {
  "kernelspec": {
   "display_name": "anaconda-2024.02-py310",
   "language": "python",
   "name": "conda-env-anaconda-2024.02-py310-py"
  },
  "language_info": {
   "codemirror_mode": {
    "name": "ipython",
    "version": 3
   },
   "file_extension": ".py",
   "mimetype": "text/x-python",
   "name": "python",
   "nbconvert_exporter": "python",
   "pygments_lexer": "ipython3",
   "version": "3.10.14"
  }
 },
 "nbformat": 4,
 "nbformat_minor": 5
}
